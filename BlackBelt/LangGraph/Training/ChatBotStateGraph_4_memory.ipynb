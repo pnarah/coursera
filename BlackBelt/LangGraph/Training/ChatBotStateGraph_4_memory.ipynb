{
 "cells": [
  {
   "cell_type": "markdown",
   "id": "75e21808",
   "metadata": {},
   "source": [
    "# Configure environment"
   ]
  },
  {
   "cell_type": "code",
   "execution_count": null,
   "id": "1722dc01",
   "metadata": {},
   "outputs": [],
   "source": [
    "import os \n",
    "from dotenv import load_dotenv\n",
    "\n",
    "load_dotenv()\n",
    "\n",
    "tavily_key = os.getenv('TAVILY_API_KEY')\n",
    "open_key = os.getenv('OPENAI_API_KEY')\n",
    "print(tavily_key)\n",
    "print(open_key)"
   ]
  },
  {
   "cell_type": "markdown",
   "id": "1c380c89",
   "metadata": {},
   "source": [
    "# 3. Define the tool¶\n",
    "Define the web search tool:"
   ]
  },
  {
   "cell_type": "code",
   "execution_count": null,
   "id": "505dbd68",
   "metadata": {},
   "outputs": [],
   "source": [
    "from langchain_tavily import TavilySearch\n",
    "\n",
    "tool = TavilySearch(max_results=5)\n",
    "tools = [tool]\n",
    "# tools.invoke(\"What is the capital of France?\")"
   ]
  },
  {
   "cell_type": "markdown",
   "id": "358a8cdc",
   "metadata": {},
   "source": [
    "# 4. Define Graph and add nodes"
   ]
  },
  {
   "cell_type": "code",
   "execution_count": null,
   "id": "5ad9fb46",
   "metadata": {},
   "outputs": [],
   "source": [
    "from langchain.chat_models import init_chat_model\n",
    "llm = init_chat_model(\"openai:gpt-4.1-mini\")"
   ]
  },
  {
   "cell_type": "code",
   "execution_count": null,
   "id": "561196dd",
   "metadata": {},
   "outputs": [],
   "source": [
    "from typing import Annotated\n",
    "\n",
    "from langchain_tavily import TavilySearch\n",
    "from typing_extensions import TypedDict\n",
    "\n",
    "from langgraph.graph import StateGraph, START, END\n",
    "from langgraph.graph.message import add_messages\n",
    "from langgraph.prebuilt import ToolNode, tools_condition\n",
    "\n",
    "class State(TypedDict):\n",
    "    messages: Annotated[list, add_messages]\n",
    "\n",
    "graph_builder = StateGraph(State)\n",
    "\n",
    "tool = TavilySearch(max_results=2)\n",
    "tools = [tool]\n",
    "llm_with_tools = llm.bind_tools(tools)\n",
    "\n",
    "def chatbot(state: State):\n",
    "    return {\"messages\": [llm_with_tools.invoke(state[\"messages\"])]}\n",
    "\n",
    "graph_builder.add_node(\"chatbot\", chatbot)\n",
    "\n",
    "tool_node = ToolNode(tools=[tool])\n",
    "graph_builder.add_node(\"tools\", tool_node)\n",
    "\n",
    "graph_builder.add_conditional_edges(\n",
    "    \"chatbot\",\n",
    "    tools_condition,\n",
    ")\n",
    "# Any time a tool is called, we return to the chatbot to decide the next step\n",
    "graph_builder.add_edge(\"tools\", \"chatbot\")\n",
    "graph_builder.add_edge(START, \"chatbot\")\n",
    "# graph = graph_builder.compile()"
   ]
  },
  {
   "cell_type": "markdown",
   "id": "05881d02",
   "metadata": {},
   "source": [
    "# 1. Create a MemorySaver checkpointer¶\n",
    "Create a MemorySaver checkpointer:\n",
    "\n",
    "This is in-memory checkpointer, which is convenient for the tutorial. However, in a production application, you would likely change this to use SqliteSaver or PostgresSaver and connect a database."
   ]
  },
  {
   "cell_type": "code",
   "execution_count": null,
   "id": "83667f0c",
   "metadata": {},
   "outputs": [],
   "source": [
    "from langgraph.checkpoint.memory import MemorySaver\n",
    "\n",
    "memory = MemorySaver()"
   ]
  },
  {
   "cell_type": "markdown",
   "id": "f27b4c8d",
   "metadata": {},
   "source": [
    "# 2. Compile the graph\n",
    "Compile the graph with the provided checkpointer, which will checkpoint the State as the graph works through each node:"
   ]
  },
  {
   "cell_type": "code",
   "execution_count": null,
   "id": "c8c67d4b",
   "metadata": {},
   "outputs": [],
   "source": [
    "graph = graph_builder.compile(checkpointer=memory)"
   ]
  },
  {
   "cell_type": "markdown",
   "id": "64d18dfa",
   "metadata": {},
   "source": [
    "# 3. Visualize the graph (optional)\n"
   ]
  },
  {
   "cell_type": "code",
   "execution_count": null,
   "id": "97fe3405",
   "metadata": {},
   "outputs": [],
   "source": [
    "from IPython.display import Image, display\n",
    "\n",
    "try:\n",
    "    display(Image(graph.get_graph().draw_mermaid_png()))\n",
    "except Exception:\n",
    "    # This requires some extra dependencies and is optional\n",
    "    pass"
   ]
  },
  {
   "cell_type": "markdown",
   "id": "92c2ff57",
   "metadata": {},
   "source": [
    "# 3. Interact with your chatbot¶\n",
    "Now you can interact with your bot!"
   ]
  },
  {
   "cell_type": "markdown",
   "id": "a442d3e8",
   "metadata": {},
   "source": [
    "## 1. Pick a thread to use as the key for this conversation."
   ]
  },
  {
   "cell_type": "code",
   "execution_count": null,
   "id": "98e9f8ab",
   "metadata": {},
   "outputs": [],
   "source": [
    "config = {\"configurable\": {\"thread_id\": \"1\"}}"
   ]
  },
  {
   "cell_type": "markdown",
   "id": "5a9dc569",
   "metadata": {},
   "source": [
    "## 2. Call your chatbot:"
   ]
  },
  {
   "cell_type": "code",
   "execution_count": null,
   "id": "1d015cf2",
   "metadata": {},
   "outputs": [],
   "source": [
    "user_input = \"Hi there! My name is Prasanta Narah.\"\n",
    "\n",
    "# The config is the **second positional argument** to stream() or invoke()!\n",
    "events = graph.stream(\n",
    "    {\"messages\": [{\"role\": \"user\", \"content\": user_input}]},\n",
    "    config,\n",
    "    stream_mode=\"values\",\n",
    ")\n",
    "for event in events:\n",
    "    event[\"messages\"][-1].pretty_print()"
   ]
  },
  {
   "cell_type": "markdown",
   "id": "a28623ea",
   "metadata": {},
   "source": [
    "## 4. Ask a follow up question\n",
    "Toggle between following to check the memory\n",
    "```\n",
    "    config,\n",
    "    # {\"configurable\": {\"thread_id\": \"2\"}},\n",
    "```"
   ]
  },
  {
   "cell_type": "code",
   "execution_count": null,
   "id": "87362228",
   "metadata": {},
   "outputs": [],
   "source": [
    "# user_input = \"Remember my name? remember that there was two birds in my garden.\"\n",
    "# user_input = \"Tell my name and tell me how many birds were in my garden.\"\n",
    "user_input = \"What is the capital of France?\"\n",
    "\n",
    "# The config is the **second positional argument** to stream() or invoke()!\n",
    "events = graph.stream(\n",
    "    {\"messages\": [{\"role\": \"user\", \"content\": user_input}]},\n",
    "    config,\n",
    "    # {\"configurable\": {\"thread_id\": \"2\"}},\n",
    "    stream_mode=\"values\",\n",
    ")\n",
    "for event in events:\n",
    "    event[\"messages\"][-1].pretty_print()"
   ]
  },
  {
   "cell_type": "markdown",
   "id": "9b9ceedd",
   "metadata": {},
   "source": [
    "# 5. Inspect the state¶\n",
    "\n",
    "By now, we have made a few checkpoints across two different threads. But what goes into a checkpoint? To inspect a graph's state for a given config at any time, call get_state(config)."
   ]
  },
  {
   "cell_type": "code",
   "execution_count": null,
   "id": "e08a7e5a",
   "metadata": {},
   "outputs": [],
   "source": [
    "snapshot = graph.get_state(config)\n",
    "snapshot"
   ]
  },
  {
   "cell_type": "markdown",
   "id": "ece5fdd4",
   "metadata": {},
   "source": [
    "# COMBINED\n"
   ]
  },
  {
   "cell_type": "code",
   "execution_count": null,
   "id": "071adcf7",
   "metadata": {},
   "outputs": [],
   "source": [
    "from typing import Annotated\n",
    "\n",
    "from langchain.chat_models import init_chat_model\n",
    "from langchain_tavily import TavilySearch\n",
    "from langchain_core.messages import BaseMessage\n",
    "from typing_extensions import TypedDict\n",
    "\n",
    "from langgraph.checkpoint.memory import MemorySaver\n",
    "from langgraph.graph import StateGraph\n",
    "from langgraph.graph.message import add_messages\n",
    "from langgraph.prebuilt import ToolNode, tools_condition\n",
    "\n",
    "class State(TypedDict):\n",
    "    messages: Annotated[list, add_messages]\n",
    "\n",
    "graph_builder = StateGraph(State)\n",
    "\n",
    "tool = TavilySearch(max_results=2)\n",
    "tools = [tool]\n",
    "llm_with_tools = llm.bind_tools(tools)\n",
    "\n",
    "def chatbot(state: State):\n",
    "    return {\"messages\": [llm_with_tools.invoke(state[\"messages\"])]}\n",
    "\n",
    "graph_builder.add_node(\"chatbot\", chatbot)\n",
    "\n",
    "tool_node = ToolNode(tools=[tool])\n",
    "graph_builder.add_node(\"tools\", tool_node)\n",
    "\n",
    "graph_builder.add_conditional_edges(\n",
    "    \"chatbot\",\n",
    "    tools_condition,\n",
    ")\n",
    "graph_builder.add_edge(\"tools\", \"chatbot\")\n",
    "graph_builder.set_entry_point(\"chatbot\")\n",
    "memory = MemorySaver()\n",
    "graph = graph_builder.compile(checkpointer=memory)"
   ]
  }
 ],
 "metadata": {
  "kernelspec": {
   "display_name": "Python 3",
   "language": "python",
   "name": "python3"
  },
  "language_info": {
   "codemirror_mode": {
    "name": "ipython",
    "version": 3
   },
   "file_extension": ".py",
   "mimetype": "text/x-python",
   "name": "python",
   "nbconvert_exporter": "python",
   "pygments_lexer": "ipython3",
   "version": "3.13.5"
  }
 },
 "nbformat": 4,
 "nbformat_minor": 5
}

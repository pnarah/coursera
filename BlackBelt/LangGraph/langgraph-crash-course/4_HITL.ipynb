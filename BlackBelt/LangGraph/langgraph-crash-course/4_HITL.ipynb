{
 "cells": [
  {
   "cell_type": "code",
   "execution_count": 2,
   "id": "ae6dc6f8",
   "metadata": {},
   "outputs": [],
   "source": [
    "from langchain.chat_models import init_chat_model\n",
    "from typing import Annotated\n",
    "from typing_extensions import TypedDict\n",
    "from langgraph.graph import StateGraph, START, END\n",
    "from langgraph.graph.message import add_messages\n",
    "from langchain_core.tools import tool\n",
    "from langgraph.prebuilt import ToolNode, tools_condition\n",
    "from langgraph.checkpoint.memory import MemorySaver\n",
    "from langgraph.types import interrupt, Command"
   ]
  },
  {
   "cell_type": "code",
   "execution_count": 1,
   "id": "2b7141cb",
   "metadata": {},
   "outputs": [
    {
     "data": {
      "text/plain": [
       "True"
      ]
     },
     "execution_count": 1,
     "metadata": {},
     "output_type": "execute_result"
    }
   ],
   "source": [
    "from dotenv import load_dotenv\n",
    "load_dotenv()"
   ]
  },
  {
   "cell_type": "code",
   "execution_count": 3,
   "id": "7843ebd5",
   "metadata": {},
   "outputs": [],
   "source": [
    "class State(TypedDict):\n",
    "    messages: Annotated[list, add_messages]  # plural \"messages\""
   ]
  },
  {
   "cell_type": "code",
   "execution_count": 4,
   "id": "8c5c57ca",
   "metadata": {},
   "outputs": [],
   "source": [
    "@tool\n",
    "def get_stock_price(symbol: str) -> float:\n",
    "    '''Return the current price of a stock given the stock symbol'''\n",
    "    return {\"MSFT\": 200.3, \"AAPL\": 100.4, \"AMZN\": 150.0, \"RIL\": 87.6}.get(symbol, 0.0)"
   ]
  },
  {
   "cell_type": "code",
   "execution_count": 5,
   "id": "a339eb2d",
   "metadata": {},
   "outputs": [],
   "source": [
    "@tool\n",
    "def buy_stocks(symbol: str, quantity: int, total_price: float) -> str:\n",
    "    '''Buy stocks given the stock symbol and quantity'''\n",
    "    decision = interrupt(f\"Approve buying {quantity} {symbol} stocks for ${total_price:.2f}?\")\n",
    "\n",
    "    if decision == \"yes\":\n",
    "        return f\"You bought {quantity} shares of {symbol} for a total price of {total_price}\"\n",
    "    else:\n",
    "        return \"Buying declined.\""
   ]
  },
  {
   "cell_type": "code",
   "execution_count": 6,
   "id": "a5d52157",
   "metadata": {},
   "outputs": [],
   "source": [
    "tools=[get_stock_price, buy_stocks]"
   ]
  },
  {
   "cell_type": "code",
   "execution_count": 7,
   "id": "be07fe19",
   "metadata": {},
   "outputs": [],
   "source": [
    "llm = init_chat_model(\"openai:gpt-4.1-mini\")\n",
    "llm_with_tools = llm.bind_tools(tools)"
   ]
  },
  {
   "cell_type": "code",
   "execution_count": 13,
   "id": "95da3f71",
   "metadata": {},
   "outputs": [],
   "source": [
    "def chatbot_node(state: State):\n",
    "    return {\"messages\" : [llm_with_tools.invoke(state[\"messages\"])]}"
   ]
  },
  {
   "cell_type": "code",
   "execution_count": 14,
   "id": "95a9831c",
   "metadata": {},
   "outputs": [],
   "source": [
    "memory = MemorySaver()\n",
    "\n",
    "builder = StateGraph(State)\n",
    "builder.add_node(\"chatbot\", chatbot_node)\n",
    "builder.add_node(\"tools\", ToolNode(tools))\n",
    "\n",
    "builder.add_edge(START, \"chatbot\")\n",
    "builder.add_conditional_edges(\"chatbot\", tools_condition)\n",
    "builder.add_edge(\"tools\", \"chatbot\")\n",
    "builder.add_edge(\"chatbot\", END)\n",
    "\n",
    "graph = builder.compile(checkpointer=memory)\n"
   ]
  },
  {
   "cell_type": "code",
   "execution_count": 15,
   "id": "25abe62a",
   "metadata": {},
   "outputs": [],
   "source": [
    "config = {\"configurable\": {\"thread_id\": \"buy_thread\"}}"
   ]
  },
  {
   "cell_type": "code",
   "execution_count": 16,
   "id": "3fe89e21",
   "metadata": {},
   "outputs": [
    {
     "name": "stdout",
     "output_type": "stream",
     "text": [
      "The current price of one MSFT stock is $200.3. For 10 MSFT stocks, the total price would be $2003. Would you like to proceed with buying 10 MSFT stocks?\n"
     ]
    }
   ],
   "source": [
    "# Step 1: user asks price\n",
    "state = graph.invoke({\"messages\":[{\"role\":\"user\",\"content\":\"What is the current price of 10 MSFT stocks?\"}]}, config=config)\n",
    "print(state[\"messages\"][-1].content)"
   ]
  },
  {
   "cell_type": "code",
   "execution_count": null,
   "id": "f6b5d892",
   "metadata": {},
   "outputs": [
    {
     "name": "stdout",
     "output_type": "stream",
     "text": [
      "[Interrupt(value='Approve buying 10 MSFT stocks for $2003.00?', resumable=True, ns=['tools:c236f008-7c18-659f-a23f-1d12b762820c'])]\n"
     ]
    }
   ],
   "source": [
    "# Step 2: user asks to buy\n",
    "state = graph.invoke({\"messages\":[{\"role\":\"user\",\"content\":\"Buy 10 MSFT stocks at current price.\"}]}, config=config)\n",
    "print(state.get(\"__interrupt__\"))\n",
    "print(\"-- \" * 10)\n",
    "print(state)"
   ]
  },
  {
   "cell_type": "code",
   "execution_count": 18,
   "id": "b96f0c16",
   "metadata": {},
   "outputs": [
    {
     "name": "stdout",
     "output_type": "stream",
     "text": [
      "You have successfully bought 10 MSFT stocks at the current price, with a total cost of $2003. Is there anything else you would like to do?\n"
     ]
    }
   ],
   "source": [
    "decision = input(\"Approve (yes/no): \")\n",
    "state = graph.invoke(Command(resume=decision), config=config)\n",
    "print(state[\"messages\"][-1].content)"
   ]
  }
 ],
 "metadata": {
  "kernelspec": {
   "display_name": "Python 3",
   "language": "python",
   "name": "python3"
  },
  "language_info": {
   "codemirror_mode": {
    "name": "ipython",
    "version": 3
   },
   "file_extension": ".py",
   "mimetype": "text/x-python",
   "name": "python",
   "nbconvert_exporter": "python",
   "pygments_lexer": "ipython3",
   "version": "3.13.5"
  }
 },
 "nbformat": 4,
 "nbformat_minor": 5
}

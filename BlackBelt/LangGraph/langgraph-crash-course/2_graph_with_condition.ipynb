{
 "cells": [
  {
   "cell_type": "code",
   "execution_count": null,
   "id": "2ebbfa0a",
   "metadata": {},
   "outputs": [],
   "source": [
    "from typing import TypedDict, Literal\n",
    "\n",
    "class PortfolioState(TypedDict):\n",
    "    amount_usd: float\n",
    "    total_usd: float\n",
    "    target_currency: Literal[\"INR\", \"EUR\"]\n",
    "    total: float"
   ]
  },
  {
   "cell_type": "code",
   "execution_count": null,
   "id": "7ccac1f0",
   "metadata": {},
   "outputs": [],
   "source": [
    "def calculate_total_usd(state: PortfolioState) -> PortfolioState:\n",
    "    state[\"total_usd\"] = state[\"amount_usd\"] * 1.08  # Assuming 1.08 increase in amount\n",
    "    return state\n",
    "\n",
    "def convert_to_inr(state: PortfolioState) -> PortfolioState:\n",
    "    state[\"total\"] = state[\"total_usd\"] * 82.0  # Assuming conversion rate of 82.0\n",
    "    return state\n",
    "\n",
    "def convert_to_eur(state: PortfolioState) -> PortfolioState:\n",
    "    state[\"total\"] = state[\"total_usd\"] * 0.85  # Assuming conversion rate of 0.85\n",
    "    return state    \n",
    "\n",
    "def choose_conversion(state: PortfolioState) -> str:\n",
    "   return state[\"target_currency\"]"
   ]
  },
  {
   "cell_type": "code",
   "execution_count": 5,
   "id": "90dafd53",
   "metadata": {},
   "outputs": [],
   "source": [
    "from langgraph.graph import StateGraph, START, END\n",
    "\n",
    "builder = StateGraph(PortfolioState)\n",
    "\n",
    "builder.add_node(\"calc_total_node\", calculate_total_usd)\n",
    "builder.add_node(\"convert_to_inr\", convert_to_inr)\n",
    "builder.add_node(\"convert_to_eur\", convert_to_eur)\n",
    "\n",
    "builder.add_edge(START, \"calc_total_node\")\n",
    "builder.add_conditional_edges(\n",
    "    \"calc_total_node\",\n",
    "    choose_conversion,\n",
    "    {\n",
    "        \"INR\": \"convert_to_inr\",\n",
    "        \"EUR\": \"convert_to_eur\"\n",
    "    }\n",
    ")\n",
    "builder.add_edge([\"convert_to_inr\", \"convert_to_eur\"], END)\n",
    "\n",
    "graph = builder.compile()\n"
   ]
  },
  {
   "cell_type": "code",
   "execution_count": 6,
   "id": "3eeebb41",
   "metadata": {},
   "outputs": [
    {
     "data": {
      "image/png": "[encoded data removed]",
      "text/plain": [
       "<IPython.core.display.Image object>"
      ]
     },
     "metadata": {},
     "output_type": "display_data"
    }
   ],
   "source": [
    "from IPython.display import Image, display\n",
    "\n",
    "display(Image(graph.get_graph().draw_mermaid_png()))"
   ]
  },
  {
   "cell_type": "code",
   "execution_count": 7,
   "id": "1cc58365",
   "metadata": {},
   "outputs": [
    {
     "data": {
      "text/plain": [
       "{'amount_usd': 1000,\n",
       " 'total_usd': 1080.0,\n",
       " 'target_currency': 'EUR',\n",
       " 'total': 918.0}"
      ]
     },
     "execution_count": 7,
     "metadata": {},
     "output_type": "execute_result"
    }
   ],
   "source": [
    "graph.invoke({\"amount_usd\": 1000, \"target_currency\": \"EUR\"})"
   ]
  },
  {
   "cell_type": "code",
   "execution_count": 8,
   "id": "1f52420e",
   "metadata": {},
   "outputs": [
    {
     "data": {
      "text/plain": [
       "{'amount_usd': 1000, 'total_usd': 1080.0, 'target_currency': 'INR'}"
      ]
     },
     "execution_count": 8,
     "metadata": {},
     "output_type": "execute_result"
    }
   ],
   "source": [
    "graph.invoke({\"amount_usd\": 1000, \"target_currency\": \"INR\"})"
   ]
  }
 ],
 "metadata": {
  "kernelspec": {
   "display_name": "Python 3",
   "language": "python",
   "name": "python3"
  },
  "language_info": {
   "codemirror_mode": {
    "name": "ipython",
    "version": 3
   },
   "file_extension": ".py",
   "mimetype": "text/x-python",
   "name": "python",
   "nbconvert_exporter": "python",
   "pygments_lexer": "ipython3",
   "version": "3.13.5"
  }
 },
 "nbformat": 4,
 "nbformat_minor": 5
}

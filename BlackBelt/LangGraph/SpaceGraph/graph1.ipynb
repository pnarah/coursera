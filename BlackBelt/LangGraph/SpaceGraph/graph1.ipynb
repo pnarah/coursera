{
 "cells": [
  {
   "cell_type": "code",
   "execution_count": null,
   "id": "64d54ec7",
   "metadata": {},
   "outputs": [],
   "source": [
    "import os\n",
    "import logging\n",
    "from dotenv import load_dotenv\n",
    "from langchain_openai import AzureChatOpenAI\n",
    "from langchain_openai import ChatOpenAI  # ✅ FIXED: Use LangChain's OpenAI wrapper\n",
    "from langgraph.graph import MessagesState, StateGraph, START\n",
    "from langgraph.prebuilt import tools_condition, ToolNode\n",
    "from langchain_core.messages import HumanMessage, SystemMessage\n",
    "from langchain_core.tools import tool\n",
    "from langgraph.types import interrupt, Command\n",
    "\n",
    "# ✅ Load environment variables from .env file\n",
    "load_dotenv()\n",
    "\n",
    "# Tools (Assume they are implemented elsewhere)\n",
    "from tools.neo import get_near_earth_objects\n",
    "from tools.apod import get_apod\n",
    "from tools.weather import get_weather\n",
    "from tools.iss_locator import get_iss_location\n",
    "from tools.astronauts_in_space import get_astronauts"
   ]
  },
  {
   "cell_type": "code",
   "execution_count": null,
   "id": "94af0c3c",
   "metadata": {},
   "outputs": [],
   "source": [
    "\n",
    "# ✅ Configure Logging\n",
    "logging.basicConfig(level=logging.INFO, format='%(asctime)s - %(name)s - %(levelname)s - %(message)s')\n",
    "logger = logging.getLogger(__name__)\n",
    "\n",
    "# ✅ Load API Key\n",
    "# OPENAI_API_KEY = os.getenv(\"OPENAI_API_KEY\")"
   ]
  },
  {
   "cell_type": "code",
   "execution_count": null,
   "id": "13098cad",
   "metadata": {},
   "outputs": [],
   "source": [
    "# Stock trading tools\n",
    "@tool\n",
    "def get_stock_price(symbol: str) -> float:\n",
    "    '''Return the current price of a stock given the stock symbol'''\n",
    "    return {\"MSFT\": 200.3, \"AAPL\": 100.4, \"AMZN\": 150.0, \"RIL\": 87.6}.get(symbol, 0.0)\n",
    "\n",
    "@tool\n",
    "def buy_stocks(symbol: str, quantity: int, total_price: float) -> str:\n",
    "    '''Buy stocks given the stock symbol and quantity'''\n",
    "    decision = interrupt(f\"Approve buying {quantity} {symbol} stocks for ${total_price:.2f}?\")\n",
    "\n",
    "    if decision == \"yes\":\n",
    "        return f\"You bought {quantity} shares of {symbol} for a total price of {total_price}\"\n",
    "    else:\n",
    "        return \"Buying declined.\""
   ]
  },
  {
   "cell_type": "code",
   "execution_count": null,
   "id": "bda05559",
   "metadata": {},
   "outputs": [],
   "source": [
    "\n",
    "# ✅ Define Available Tools (including stock trading tools)\n",
    "tools = [\n",
    "    get_iss_location,\n",
    "    get_astronauts,\n",
    "    get_weather,\n",
    "    get_apod,\n",
    "    get_near_earth_objects,\n",
    "    get_stock_price,\n",
    "    buy_stocks\n",
    "]\n",
    "\n",
    "# ✅ Use ChatOpenAI (Now Supports `.bind_tools`)gpt-4o gpt-4.1-mini\n",
    "# llm = ChatOpenAI(model=\"gpt-4o\", api_key=OPENAI_API_KEY)\n",
    "llm = AzureChatOpenAI(\n",
    "        azure_endpoint=\"\",\n",
    "        api_version=\"2024-10-21\",\n",
    "        api_key=os.getenv(\"AZURE_API_KEY\"),  # Set this in your .env file\n",
    "        model=\"gpt-4o\",\n",
    "        default_headers={\"x-c-app\": \"my-app\"},\n",
    "    )\n",
    "\n",
    "# ✅ Bind Tools to LLM\n",
    "llm_with_tools = llm.bind_tools(tools, parallel_tool_calls=False)"
   ]
  },
  {
   "cell_type": "code",
   "execution_count": null,
   "id": "fc31fc09",
   "metadata": {},
   "outputs": [],
   "source": [
    "# ✅ System Message (Updated to include stock trading)\n",
    "sys_msg = SystemMessage(content=\"You are a helpful assistant providing space-related information and stock trading services.\")\n",
    "\n",
    "# ✅ Define Assistant Node (Now Matches LangGraph Docs)\n",
    "def assistant(state: MessagesState):\n",
    "    return {\"messages\": [llm_with_tools.invoke([sys_msg] + state[\"messages\"])]}\n",
    "\n",
    "# ✅ Build the LangGraph\n",
    "builder = StateGraph(MessagesState)\n",
    "\n",
    "# ✅ Add Nodes\n",
    "builder.add_node(\"assistant\", assistant)\n",
    "builder.add_node(\"tools\", ToolNode(tools))\n",
    "\n",
    "# ✅ Define Edges (Matches Docs)\n",
    "builder.add_edge(START, \"assistant\")\n",
    "builder.add_conditional_edges(\n",
    "    \"assistant\",\n",
    "    tools_condition,  # Routes to \"tools\" if tools are needed, else to END\n",
    ")\n",
    "\n",
    "builder.add_edge(\"tools\", \"assistant\")  # ✅ Tools always return to assistant\n",
    "\n",
    "# ✅ Compile the Graph\n",
    "# compiled_graph = builder.compile()\n",
    "from langgraph.checkpoint.memory import MemorySaver\n",
    "memory = MemorySaver()\n",
    "\n",
    "compiled_graph = builder.compile(checkpointer=memory)"
   ]
  },
  {
   "cell_type": "code",
   "execution_count": null,
   "id": "d4a2b041",
   "metadata": {},
   "outputs": [],
   "source": [
    "\n",
    "# ✅ Visualize the Graph \n",
    "from IPython.display import Image, display\n",
    "\n",
    "try:\n",
    "    display(Image(compiled_graph.get_graph().draw_mermaid_png()))\n",
    "except Exception:\n",
    "    # This requires some extra dependencies and is optional\n",
    "    pass"
   ]
  },
  {
   "cell_type": "code",
   "execution_count": 11,
   "id": "adcafaa3",
   "metadata": {},
   "outputs": [],
   "source": [
    "def stream_graph_updates(user_input: str):\n",
    "    config = {\"configurable\": {\"thread_id\": \"1\"}}\n",
    "    \n",
    "    try:\n",
    "        for event in compiled_graph.stream({\"messages\": [{\"role\": \"user\", \"content\": user_input}]}, config):\n",
    "            for value in event.values():\n",
    "                if \"messages\" in value and value[\"messages\"]:\n",
    "                    print(\"Assistant:\", value[\"messages\"][-1].content)\n",
    "                    \n",
    "        # Check for interrupts (stock purchase approvals)\n",
    "        state = compiled_graph.get_state(config)\n",
    "        if state.next and \"__interrupt__\" in str(state.next):\n",
    "            # Handle interrupt for stock purchase approval\n",
    "            decision = input(\"Enter your decision (yes/no): \")\n",
    "            compiled_graph.update_state(config, None, as_node=\"__interrupt__\")\n",
    "            \n",
    "            # Resume with the decision\n",
    "            for event in compiled_graph.stream(Command(resume=decision), config):\n",
    "                for value in event.values():\n",
    "                    if \"messages\" in value and value[\"messages\"]:\n",
    "                        print(\"Assistant:\", value[\"messages\"][-1].content)\n",
    "                        \n",
    "    except Exception as e:\n",
    "        print(f\"Error: {str(e)}\")\n",
    "        # Check if it's an interrupt\n",
    "        try:\n",
    "            state = compiled_graph.get_state(config)\n",
    "            if hasattr(state, 'tasks') and state.tasks:\n",
    "                # This is likely an interrupt\n",
    "                print(\"Stock purchase approval needed.\")\n",
    "                decision = input(\"Approve purchase? (yes/no): \")\n",
    "                \n",
    "                # Resume the graph with the decision\n",
    "                for event in compiled_graph.stream(Command(resume=decision), config):\n",
    "                    for value in event.values():\n",
    "                        if \"messages\" in value and value[\"messages\"]:\n",
    "                            print(\"Assistant:\", value[\"messages\"][-1].content)\n",
    "        except Exception as resume_error:\n",
    "            print(f\"Resume error: {str(resume_error)}\")"
   ]
  },
  {
   "cell_type": "code",
   "execution_count": 12,
   "id": "32113820",
   "metadata": {},
   "outputs": [
    {
     "name": "stdout",
     "output_type": "stream",
     "text": [
      "🚀 Space & Stock Assistant\n",
      "Ask me about space or stock information!\n",
      "Examples:\n",
      "- Where is the ISS?\n",
      "- What's the price of MSFT stock?\n",
      "- Buy 10 shares of AAPL\n",
      "Type 'quit' to exit.\n",
      "\n"
     ]
    },
    {
     "name": "stderr",
     "output_type": "stream",
     "text": [
      "INFO:httpx:HTTP Request: POST https://llm-proxy.us-east-2.int.infra.intelligence.webex.com/azure/v1/openai/deployments/gpt-4o/chat/completions?api-version=2024-10-21 \"HTTP/1.1 200 OK\"\n",
      "INFO:httpx:HTTP Request: POST https://llm-proxy.us-east-2.int.infra.intelligence.webex.com/azure/v1/openai/deployments/gpt-4o/chat/completions?api-version=2024-10-21 \"HTTP/1.1 200 OK\"\n"
     ]
    },
    {
     "name": "stdout",
     "output_type": "stream",
     "text": [
      "Assistant: 200.3\n",
      "Assistant: The current price of one MSFT (Microsoft) stock is $200.30. Therefore, the cost of 10 MSFT stocks would be:\n",
      "\n",
      "10 stocks * $200.30 per stock = $2,003.00\n"
     ]
    },
    {
     "name": "stderr",
     "output_type": "stream",
     "text": [
      "INFO:httpx:HTTP Request: POST https://llm-proxy.us-east-2.int.infra.intelligence.webex.com/azure/v1/openai/deployments/gpt-4o/chat/completions?api-version=2024-10-21 \"HTTP/1.1 200 OK\"\n"
     ]
    },
    {
     "name": "stdout",
     "output_type": "stream",
     "text": [
      "Assistant: The cost of 20 MSFT stocks would be:\n",
      "\n",
      "20 stocks * $200.30 per stock = $4,006.00\n"
     ]
    },
    {
     "name": "stderr",
     "output_type": "stream",
     "text": [
      "INFO:httpx:HTTP Request: POST https://llm-proxy.us-east-2.int.infra.intelligence.webex.com/azure/v1/openai/deployments/gpt-4o/chat/completions?api-version=2024-10-21 \"HTTP/1.1 200 OK\"\n"
     ]
    },
    {
     "name": "stdout",
     "output_type": "stream",
     "text": [
      "Assistant: Would you like to proceed with purchasing 20 MSFT stocks for $4,006.00?\n"
     ]
    },
    {
     "name": "stderr",
     "output_type": "stream",
     "text": [
      "INFO:httpx:HTTP Request: POST https://llm-proxy.us-east-2.int.infra.intelligence.webex.com/azure/v1/openai/deployments/gpt-4o/chat/completions?api-version=2024-10-21 \"HTTP/1.1 200 OK\"\n"
     ]
    },
    {
     "name": "stdout",
     "output_type": "stream",
     "text": [
      "Assistant: Alright! If you have any further questions or any other assistance you need, feel free to ask.\n"
     ]
    },
    {
     "name": "stderr",
     "output_type": "stream",
     "text": [
      "INFO:httpx:HTTP Request: POST https://llm-proxy.us-east-2.int.infra.intelligence.webex.com/azure/v1/openai/deployments/gpt-4o/chat/completions?api-version=2024-10-21 \"HTTP/1.1 200 OK\"\n",
      "INFO:httpx:HTTP Request: POST https://llm-proxy.us-east-2.int.infra.intelligence.webex.com/azure/v1/openai/deployments/gpt-4o/chat/completions?api-version=2024-10-21 \"HTTP/1.1 200 OK\"\n"
     ]
    },
    {
     "name": "stdout",
     "output_type": "stream",
     "text": [
      "Assistant: 100.4\n",
      "⚠️  Stock purchase approval required!\n"
     ]
    },
    {
     "name": "stderr",
     "output_type": "stream",
     "text": [
      "INFO:httpx:HTTP Request: POST https://llm-proxy.us-east-2.int.infra.intelligence.webex.com/azure/v1/openai/deployments/gpt-4o/chat/completions?api-version=2024-10-21 \"HTTP/1.1 200 OK\"\n"
     ]
    },
    {
     "name": "stdout",
     "output_type": "stream",
     "text": [
      "Assistant: Buying declined.\n",
      "Assistant: The purchase of 20 AAPL stocks for $2,008.00 was unsuccessful. If you have any other requests or need further assistance, please let me know!\n"
     ]
    },
    {
     "name": "stderr",
     "output_type": "stream",
     "text": [
      "INFO:httpx:HTTP Request: POST https://llm-proxy.us-east-2.int.infra.intelligence.webex.com/azure/v1/openai/deployments/gpt-4o/chat/completions?api-version=2024-10-21 \"HTTP/1.1 200 OK\"\n",
      "INFO:httpx:HTTP Request: POST https://llm-proxy.us-east-2.int.infra.intelligence.webex.com/azure/v1/openai/deployments/gpt-4o/chat/completions?api-version=2024-10-21 \"HTTP/1.1 200 OK\"\n",
      "ERROR:root:❌ API Request Failed: 502 Server Error: Could not relay message upstream for url: http://api.open-notify.org/astros.json\n",
      "INFO:httpx:HTTP Request: POST https://llm-proxy.us-east-2.int.infra.intelligence.webex.com/azure/v1/openai/deployments/gpt-4o/chat/completions?api-version=2024-10-21 \"HTTP/1.1 200 OK\"\n"
     ]
    },
    {
     "name": "stdout",
     "output_type": "stream",
     "text": [
      "Assistant: {\"agent_response\": \"🛰️ The ISS is currently at Latitude: 24.8058, Longitude: -100.8315.\"}\n",
      "Assistant: {\"agent_response\": \"⚠️ Unable to retrieve astronaut data at this time.\"}\n",
      "Assistant: I wasn't able to retrieve the current astronauts on the International Space Station at the moment. \n",
      "\n",
      "As for the cost of 15 MSFT stocks:\n",
      "\n",
      "The current price of one MSFT stock is $200.30.\n",
      "\n",
      "So, the cost of 15 MSFT stocks would be:\n",
      "15 stocks * $200.30 per stock = $3,004.50\n"
     ]
    },
    {
     "name": "stderr",
     "output_type": "stream",
     "text": [
      "INFO:httpx:HTTP Request: POST https://llm-proxy.us-east-2.int.infra.intelligence.webex.com/azure/v1/openai/deployments/gpt-4o/chat/completions?api-version=2024-10-21 \"HTTP/1.1 200 OK\"\n"
     ]
    },
    {
     "name": "stdout",
     "output_type": "stream",
     "text": [
      "Assistant: To confirm, would you like to purchase 60 MSFT stocks for a total cost of $12,018.00?\n"
     ]
    },
    {
     "name": "stderr",
     "output_type": "stream",
     "text": [
      "INFO:httpx:HTTP Request: POST https://llm-proxy.us-east-2.int.infra.intelligence.webex.com/azure/v1/openai/deployments/gpt-4o/chat/completions?api-version=2024-10-21 \"HTTP/1.1 200 OK\"\n"
     ]
    },
    {
     "name": "stdout",
     "output_type": "stream",
     "text": [
      "⚠️  Stock purchase approval required!\n"
     ]
    },
    {
     "name": "stderr",
     "output_type": "stream",
     "text": [
      "INFO:httpx:HTTP Request: POST https://llm-proxy.us-east-2.int.infra.intelligence.webex.com/azure/v1/openai/deployments/gpt-4o/chat/completions?api-version=2024-10-21 \"HTTP/1.1 200 OK\"\n"
     ]
    },
    {
     "name": "stdout",
     "output_type": "stream",
     "text": [
      "Assistant: Buying declined.\n",
      "Assistant: The purchase of 60 MSFT stocks for $12,018.00 was unsuccessful. If you need further assistance or have other requests, please let me know!\n",
      "Goodbye!\n"
     ]
    }
   ],
   "source": [
    "\n",
    "def handle_stock_purchase_interactive():\n",
    "    \"\"\"Enhanced interactive handler for stock purchases\"\"\"\n",
    "    config = {\"configurable\": {\"thread_id\": \"stock_thread\"}}\n",
    "    \n",
    "    print(\"🚀 Space & Stock Assistant\")\n",
    "    print(\"Ask me about space or stock information!\")\n",
    "    print(\"Examples:\")\n",
    "    print(\"- Where is the ISS?\")\n",
    "    print(\"- What's the price of MSFT stock?\")\n",
    "    print(\"- Buy 10 shares of AAPL\")\n",
    "    print(\"Type 'quit' to exit.\\n\")\n",
    "    \n",
    "    while True:\n",
    "        try:\n",
    "            user_input = input(\"User: \")\n",
    "            if user_input.lower() in [\"quit\", \"exit\", \"q\"]:\n",
    "                print(\"Goodbye!\")\n",
    "                break\n",
    "            \n",
    "            # Use streaming for all requests to handle tool calls properly\n",
    "            try:\n",
    "                events = list(compiled_graph.stream(\n",
    "                    {\"messages\": [HumanMessage(content=user_input)]}, \n",
    "                    config\n",
    "                ))\n",
    "                \n",
    "                # Process events\n",
    "                for event in events:\n",
    "                    for value in event.values():\n",
    "                        if \"messages\" in value and value[\"messages\"]:\n",
    "                            latest_message = value[\"messages\"][-1]\n",
    "                            if hasattr(latest_message, 'content') and latest_message.content:\n",
    "                                print(\"Assistant:\", latest_message.content)\n",
    "                \n",
    "                # Check if graph is interrupted (waiting for approval)\n",
    "                state = compiled_graph.get_state(config)\n",
    "                if state.next:\n",
    "                    print(\"⚠️  Stock purchase approval required!\")\n",
    "                    decision = input(\"Approve this purchase? (yes/no): \")\n",
    "                    \n",
    "                    # Resume with decision\n",
    "                    resume_events = list(compiled_graph.stream(\n",
    "                        Command(resume=decision), \n",
    "                        config\n",
    "                    ))\n",
    "                    \n",
    "                    for event in resume_events:\n",
    "                        for value in event.values():\n",
    "                            if \"messages\" in value and value[\"messages\"]:\n",
    "                                latest_message = value[\"messages\"][-1]\n",
    "                                if hasattr(latest_message, 'content') and latest_message.content:\n",
    "                                    print(\"Assistant:\", latest_message.content)\n",
    "                                    \n",
    "            except Exception as e:\n",
    "                print(f\"Error: {str(e)}\")\n",
    "                # Try to get current state to check for interrupts\n",
    "                try:\n",
    "                    state = compiled_graph.get_state(config)\n",
    "                    if state.next:\n",
    "                        print(\"⚠️  Stock purchase approval required!\")\n",
    "                        decision = input(\"Approve this purchase? (yes/no): \")\n",
    "                        \n",
    "                        # Resume with decision\n",
    "                        resume_events = list(compiled_graph.stream(\n",
    "                            Command(resume=decision), \n",
    "                            config\n",
    "                        ))\n",
    "                        \n",
    "                        for event in resume_events:\n",
    "                            for value in event.values():\n",
    "                                if \"messages\" in value and value[\"messages\"]:\n",
    "                                    latest_message = value[\"messages\"][-1]\n",
    "                                    if hasattr(latest_message, 'content') and latest_message.content:\n",
    "                                        print(\"Assistant:\", latest_message.content)\n",
    "                except Exception as resume_error:\n",
    "                    print(f\"Resume error: {str(resume_error)}\")\n",
    "                \n",
    "        except KeyboardInterrupt:\n",
    "            print(\"\\nGoodbye!\")\n",
    "            break\n",
    "        except Exception as e:\n",
    "            print(f\"Outer error: {str(e)}\")\n",
    "            continue\n",
    "\n",
    "# Call the function\n",
    "handle_stock_purchase_interactive()"
   ]
  }
 ],
 "metadata": {
  "kernelspec": {
   "display_name": "Python 3",
   "language": "python",
   "name": "python3"
  },
  "language_info": {
   "codemirror_mode": {
    "name": "ipython",
    "version": 3
   },
   "file_extension": ".py",
   "mimetype": "text/x-python",
   "name": "python",
   "nbconvert_exporter": "python",
   "pygments_lexer": "ipython3",
   "version": "3.13.5"
  }
 },
 "nbformat": 4,
 "nbformat_minor": 5
}

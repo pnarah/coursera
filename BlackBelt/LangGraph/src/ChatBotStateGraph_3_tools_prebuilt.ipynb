{
 "cells": [
  {
   "cell_type": "markdown",
   "id": "500caac1",
   "metadata": {},
   "source": [
    "# Add Search Tool as Node in the graph\n",
    "\n",
    "https://app.tavily.com/home\n",
    "\n"
   ]
  },
  {
   "cell_type": "markdown",
   "id": "76976ed1",
   "metadata": {},
   "source": [
    "# 1. Install the search engine"
   ]
  },
  {
   "cell_type": "code",
   "execution_count": null,
   "id": "73fe8245",
   "metadata": {},
   "outputs": [],
   "source": [
    "pip install -U langchain-tavily --break-system-packages"
   ]
  },
  {
   "cell_type": "markdown",
   "id": "b7f9fb3d",
   "metadata": {},
   "source": [
    "# 2. Configure your environment\n",
    "Configure your environment with your search engine API key:"
   ]
  },
  {
   "cell_type": "code",
   "execution_count": null,
   "id": "e698b4bd",
   "metadata": {},
   "outputs": [],
   "source": [
    "import os\n",
    "\n",
    "# os.environ[\"TAVILY_API_KEY\"] = \".......\"\n",
    "\n",
    "from dotenv import load_dotenv\n",
    "# from langchain import OpenAI, SQLDatabase, SQLDatabaseChain\n",
    "\n",
    "load_dotenv()\n",
    "\n",
    "# Access environment variables\n",
    "tavily_key = os.getenv('TAVILY_API_KEY')\n",
    "\n",
    "\n",
    "print(f\"API Key: {tavily_key}\")\n"
   ]
  },
  {
   "cell_type": "markdown",
   "id": "3fe82135",
   "metadata": {},
   "source": [
    "# 3. Define the tool¶\n",
    "Define the web search tool:"
   ]
  },
  {
   "cell_type": "code",
   "execution_count": null,
   "id": "8dfd6cbd",
   "metadata": {},
   "outputs": [],
   "source": [
    "from langchain_tavily import TavilySearch\n",
    "\n",
    "tool = TavilySearch(max_results=2)\n",
    "tools = [tool]\n",
    "# tool.invoke(\"What's a 'node' in LangGraph?\")"
   ]
  },
  {
   "cell_type": "markdown",
   "id": "82e46056",
   "metadata": {},
   "source": [
    "# 4. Define the graph¶\n",
    "For the StateGraph you created in the first tutorial, add bind_tools on the LLM. This lets the LLM know the correct JSON format to use if it wants to use the search engine.\n",
    "\n",
    "Let's first select our LLM:"
   ]
  },
  {
   "cell_type": "code",
   "execution_count": null,
   "id": "c89515b4",
   "metadata": {},
   "outputs": [],
   "source": [
    "pip install -U \"langchain[openai]\" --break-system-packages"
   ]
  },
  {
   "cell_type": "code",
   "execution_count": null,
   "id": "083ea3a9",
   "metadata": {},
   "outputs": [],
   "source": [
    "# import os\n",
    "from langchain.chat_models import init_chat_model\n",
    "\n",
    "# os.environ[\"OPENAI_API_KEY\"] = \"......\"\n",
    "# openapi_key = os.getenv('OPENAI_API_KEY')\n",
    "# print(f\"OpenAI API Key: {openapi_key}\")\n",
    "\n",
    "llm = init_chat_model(\"openai:gpt-4.1-mini\")\n",
    "# llm = init_chat_model(\"ollama:llama3.2\")"
   ]
  },
  {
   "cell_type": "markdown",
   "id": "39266f90",
   "metadata": {},
   "source": [
    "### We can now incorporate it into a StateGraph:"
   ]
  },
  {
   "cell_type": "code",
   "execution_count": null,
   "id": "68d27fa4",
   "metadata": {},
   "outputs": [],
   "source": [
    "from typing import Annotated\n",
    "\n",
    "from langchain_tavily import TavilySearch\n",
    "from typing_extensions import TypedDict\n",
    "\n",
    "from langgraph.graph import StateGraph, START, END\n",
    "from langgraph.graph.message import add_messages\n",
    "from langgraph.prebuilt import ToolNode, tools_condition\n",
    "\n",
    "class State(TypedDict):\n",
    "    messages: Annotated[list, add_messages]\n",
    "\n",
    "graph_builder = StateGraph(State)\n",
    "\n",
    "tool = TavilySearch(max_results=2)\n",
    "tools = [tool]\n",
    "llm_with_tools = llm.bind_tools(tools)\n",
    "\n",
    "def chatbot(state: State):\n",
    "    return {\"messages\": [llm_with_tools.invoke(state[\"messages\"])]}\n",
    "\n",
    "graph_builder.add_node(\"chatbot\", chatbot)\n",
    "\n",
    "tool_node = ToolNode(tools=[tool])\n",
    "graph_builder.add_node(\"tools\", tool_node)\n",
    "\n",
    "graph_builder.add_conditional_edges(\n",
    "    \"chatbot\",\n",
    "    tools_condition,\n",
    ")\n",
    "# Any time a tool is called, we return to the chatbot to decide the next step\n",
    "graph_builder.add_edge(\"tools\", \"chatbot\")\n",
    "graph_builder.add_edge(START, \"chatbot\")\n",
    "graph = graph_builder.compile()"
   ]
  },
  {
   "cell_type": "markdown",
   "id": "3a4d6a7e",
   "metadata": {},
   "source": [
    "# 7. Visualize the graph (optional)"
   ]
  },
  {
   "cell_type": "code",
   "execution_count": null,
   "id": "d3372672",
   "metadata": {},
   "outputs": [],
   "source": [
    "from IPython.display import Image, display\n",
    "\n",
    "try:\n",
    "    display(Image(graph.get_graph().draw_mermaid_png()))\n",
    "except Exception:\n",
    "    # This requires some extra dependencies and is optional\n",
    "    pass"
   ]
  },
  {
   "cell_type": "markdown",
   "id": "6b2a13c2",
   "metadata": {},
   "source": []
  },
  {
   "cell_type": "markdown",
   "id": "477559f2",
   "metadata": {},
   "source": [
    "# 8. Ask the bot questions\n",
    "Now you can ask the chatbot questions outside its training data:"
   ]
  },
  {
   "cell_type": "code",
   "execution_count": null,
   "id": "3e62c207",
   "metadata": {},
   "outputs": [],
   "source": [
    "def stream_graph_updates(user_input: str):\n",
    "    for event in graph.stream({\"messages\": [{\"role\": \"user\", \"content\": user_input}]}):\n",
    "        for value in event.values():\n",
    "            print(\"Assistant:\", value[\"messages\"][-1].content)\n",
    "\n",
    "while True:\n",
    "    try:\n",
    "        user_input = input(\"User: \")\n",
    "        if user_input.lower() in [\"quit\", \"exit\", \"q\"]:\n",
    "            print(\"Goodbye!\")\n",
    "            break\n",
    "\n",
    "        stream_graph_updates(user_input)\n",
    "    except:\n",
    "        # fallback if input() is not available\n",
    "        user_input = \"What do you know about LangGraph?\"\n",
    "        print(\"User: \" + user_input)\n",
    "        stream_graph_updates(user_input)\n",
    "        break"
   ]
  }
 ],
 "metadata": {
  "kernelspec": {
   "display_name": "Python 3",
   "language": "python",
   "name": "python3"
  },
  "language_info": {
   "codemirror_mode": {
    "name": "ipython",
    "version": 3
   },
   "file_extension": ".py",
   "mimetype": "text/x-python",
   "name": "python",
   "nbconvert_exporter": "python",
   "pygments_lexer": "ipython3",
   "version": "3.13.5"
  }
 },
 "nbformat": 4,
 "nbformat_minor": 5
}
